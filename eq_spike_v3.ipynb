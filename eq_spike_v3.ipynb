{
 "cells": [
  {
   "cell_type": "code",
   "execution_count": 1,
   "metadata": {},
   "outputs": [],
   "source": [
    "# Important packages\n",
    "import numpy as np\n",
    "import matplotlib.pyplot as plt\n",
    "from tqdm import tqdm"
   ]
  },
  {
   "cell_type": "code",
   "execution_count": 2,
   "metadata": {},
   "outputs": [],
   "source": [
    "# Parameters\n",
    "dt = 0.5  # timestep (in seconds), represents max frequency\n",
    "num_epochs = 20  # number of epochs\n",
    "num_class = 10  # number of classes\n",
    "num_images = num_class * 600  # number of images in training/testing set\n",
    "tau = 0.01\n",
    "tau_LI = 0.1\n",
    "RC = 10\n",
    "f = 0.1 # fraction dt_sp/dt\n",
    "beta = 0.5  # nudge factor\n",
    "nu = 3e-5  # learning rate\n",
    "gamma = 50  # timesteps to delay\n",
    "L_filt = 10  # timesteps to be filtered\n",
    "v_rst = 0  # reset voltage\n",
    "v_th = 1  # threshold voltage\n",
    "T_free = 150  # free phase timesteps\n",
    "T_nudge = 200  # nudge phase timesteps\n",
    "N_input = 784  # number input neurons\n",
    "N_hidden = 10  # number hidden neurons\n",
    "N_output = num_class  # number output neurons\n",
    "ternary = True # ternary gradients?"
   ]
  },
  {
   "cell_type": "code",
   "execution_count": 3,
   "metadata": {},
   "outputs": [],
   "source": [
    "# # Prep data (ONLY RUN IF NOT ALREADY SAVED)\n",
    "# train_images = open('./mnist/train-images.idx3-ubyte',mode='rb')\n",
    "# train_labels = open('./mnist/train-labels.idx1-ubyte',mode='rb')\n",
    "# test_images = open('./mnist/t10k-images.idx3-ubyte',mode='rb')\n",
    "# test_labels = open('./mnist/t10k-labels.idx1-ubyte',mode='rb')\n",
    "\n",
    "# train_images.read(4)\n",
    "# train_labels.read(4)\n",
    "# test_images.read(4)\n",
    "# test_labels.read(4)\n",
    "\n",
    "# num_train_images = unpack('>I',train_images.read(4))[0]\n",
    "# num_train_labels = unpack('>I',train_labels.read(4))[0]\n",
    "# train_rows = unpack('>I',train_images.read(4))[0]\n",
    "# train_cols = unpack('>I',train_images.read(4))[0]\n",
    "# num_test_images = unpack('>I',test_images.read(4))[0]\n",
    "# num_test_labels = unpack('>I',test_labels.read(4))[0]\n",
    "# test_rows = unpack('>I',test_images.read(4))[0]\n",
    "# test_cols = unpack('>I',test_images.read(4))[0]\n",
    "\n",
    "# tr_images = np.zeros((num_train_images,train_rows,train_cols),dtype=np.uint8)\n",
    "# tr_labels = np.zeros((num_train_labels,1),dtype=np.uint8)\n",
    "# te_images = np.zeros((num_test_images,test_rows,test_cols),dtype=np.uint8)\n",
    "# te_labels = np.zeros((num_test_labels,1),dtype=np.uint8)\n",
    "\n",
    "# for i in range(num_train_images):\n",
    "#     tr_labels[i] = unpack('>B',train_labels.read(1))[0]\n",
    "#     for j in range(train_rows):\n",
    "#         for k in range(train_cols):\n",
    "#             tr_images[i][j][k] = unpack('>B',train_images.read(1))[0]\n",
    "            \n",
    "# for i in range(num_test_images):\n",
    "#     te_labels[i] = unpack('>B',test_labels.read(1))[0]\n",
    "#     for j in range(test_rows):\n",
    "#         for k in range(test_cols):\n",
    "#             te_images[i][j][k] = unpack('>B',test_images.read(1))[0]\n",
    "            \n",
    "# np.save('./mnist/train_images.npy',tr_images)\n",
    "# np.save('./mnist/train_labels.npy',tr_labels)\n",
    "# np.save('./mnist/test_images.npy',te_images)\n",
    "# np.save('./mnist/test_labels.npy',te_labels)"
   ]
  },
  {
   "cell_type": "code",
   "execution_count": 4,
   "metadata": {},
   "outputs": [],
   "source": [
    "# Generate spiking inputs\n",
    "\n",
    "# Load and flatten\n",
    "train_images = np.load('./mnist/train_images.npy')\n",
    "train_labels = np.load('./mnist/train_labels.npy')\n",
    "test_images = np.load('./mnist/test_images.npy')\n",
    "test_labels = np.load('./mnist/test_labels.npy')\n",
    "\n",
    "train_images = np.reshape(train_images,(60000,784))\n",
    "test_images = np.reshape(test_images,(10000,784))\n",
    "\n",
    "# Take subsets of each\n",
    "count0 = 0\n",
    "count1 = 0\n",
    "count2 = 0\n",
    "count3 = 0\n",
    "count4 = 0\n",
    "count5 = 0\n",
    "count6 = 0\n",
    "count7 = 0\n",
    "count8 = 0\n",
    "count9 = 0\n",
    "train_images_sub = np.zeros((num_images,784))\n",
    "train_labels_sub = np.zeros((num_images,1))\n",
    "\n",
    "for i in range(60000):\n",
    "    if train_labels[i] == 0:\n",
    "        if count0 < 600:\n",
    "            train_images_sub[count0+count1+count2+count3+count4+count5+count6+count7+count8+count9] = train_images[i]\n",
    "            train_labels_sub[count0+count1+count2+count3+count4+count5+count6+count7+count8+count9] = train_labels[i]\n",
    "            count0 += 1\n",
    "    if train_labels[i] == 1:\n",
    "        if count1 < 600:\n",
    "            train_images_sub[count0+count1+count2+count3+count4+count5+count6+count7+count8+count9] = train_images[i]\n",
    "            train_labels_sub[count0+count1+count2+count3+count4+count5+count6+count7+count8+count9] = train_labels[i]\n",
    "            count1 += 1\n",
    "    if train_labels[i] == 2:\n",
    "        if count2 < 600:\n",
    "            train_images_sub[count0+count1+count2+count3+count4+count5+count6+count7+count8+count9] = train_images[i]\n",
    "            train_labels_sub[count0+count1+count2+count3+count4+count5+count6+count7+count8+count9] = train_labels[i]\n",
    "            count2 += 1\n",
    "    if train_labels[i] == 3:\n",
    "        if count3 < 600:\n",
    "            train_images_sub[count0+count1+count2+count3+count4+count5+count6+count7+count8+count9] = train_images[i]\n",
    "            train_labels_sub[count0+count1+count2+count3+count4+count5+count6+count7+count8+count9] = train_labels[i]\n",
    "            count3 += 1\n",
    "    if train_labels[i] == 4:\n",
    "        if count4 < 600:\n",
    "            train_images_sub[count0+count1+count2+count3+count4+count5+count6+count7+count8+count9] = train_images[i]\n",
    "            train_labels_sub[count0+count1+count2+count3+count4+count5+count6+count7+count8+count9] = train_labels[i]\n",
    "            count4 += 1\n",
    "    if train_labels[i] == 5:\n",
    "        if count5 < 600:\n",
    "            train_images_sub[count0+count1+count2+count3+count4+count5+count6+count7+count8+count9] = train_images[i]\n",
    "            train_labels_sub[count0+count1+count2+count3+count4+count5+count6+count7+count8+count9] = train_labels[i]\n",
    "            count5 += 1\n",
    "    if train_labels[i] == 6:\n",
    "        if count6 < 600:\n",
    "            train_images_sub[count0+count1+count2+count3+count4+count5+count6+count7+count8+count9] = train_images[i]\n",
    "            train_labels_sub[count0+count1+count2+count3+count4+count5+count6+count7+count8+count9] = train_labels[i]\n",
    "            count6 += 1\n",
    "    if train_labels[i] == 7:\n",
    "        if count7 < 600:\n",
    "            train_images_sub[count0+count1+count2+count3+count4+count5+count6+count7+count8+count9] = train_images[i]\n",
    "            train_labels_sub[count0+count1+count2+count3+count4+count5+count6+count7+count8+count9] = train_labels[i]\n",
    "            count7 += 1\n",
    "    if train_labels[i] == 8:\n",
    "        if count8 < 600:\n",
    "            train_images_sub[count0+count1+count2+count3+count4+count5+count6+count7+count8+count9] = train_images[i]\n",
    "            train_labels_sub[count0+count1+count2+count3+count4+count5+count6+count7+count8+count9] = train_labels[i]\n",
    "            count8 += 1\n",
    "    if train_labels[i] == 9:\n",
    "        if count9 < 600:\n",
    "            train_images_sub[count0+count1+count2+count3+count4+count5+count6+count7+count8+count9] = train_images[i]\n",
    "            train_labels_sub[count0+count1+count2+count3+count4+count5+count6+count7+count8+count9] = train_labels[i]\n",
    "            count9 += 1\n",
    "            \n",
    "count0 = 0\n",
    "count1 = 0\n",
    "count2 = 0\n",
    "count3 = 0\n",
    "count4 = 0\n",
    "count5 = 0\n",
    "count6 = 0\n",
    "count7 = 0\n",
    "count8 = 0\n",
    "count9 = 0\n",
    "test_images_sub = np.zeros((num_images,784))\n",
    "test_labels_sub = np.zeros((num_images,1))\n",
    "\n",
    "for i in range(10000):\n",
    "    if test_labels[i] == 0:\n",
    "        if count0 < 600:\n",
    "            test_images_sub[count0+count1+count2+count3+count4+count5+count6+count7+count8+count9] = test_images[i]\n",
    "            test_labels_sub[count0+count1+count2+count3+count4+count5+count6+count7+count8+count9] = test_labels[i]\n",
    "            count0 += 1\n",
    "    if test_labels[i] == 1:\n",
    "        if count1 < 600:\n",
    "            test_images_sub[count0+count1+count2+count3+count4+count5+count6+count7+count8+count9] = test_images[i]\n",
    "            test_labels_sub[count0+count1+count2+count3+count4+count5+count6+count7+count8+count9] = test_labels[i]\n",
    "            count1 += 1\n",
    "    if test_labels[i] == 2:\n",
    "        if count2 < 600:\n",
    "            test_images_sub[count0+count1+count2+count3+count4+count5+count6+count7+count8+count9] = test_images[i]\n",
    "            test_labels_sub[count0+count1+count2+count3+count4+count5+count6+count7+count8+count9] = test_labels[i]\n",
    "            count2 += 1\n",
    "    if test_labels[i] == 3:\n",
    "        if count3 < 600:\n",
    "            test_images_sub[count0+count1+count2+count3+count4+count5+count6+count7+count8+count9] = test_images[i]\n",
    "            test_labels_sub[count0+count1+count2+count3+count4+count5+count6+count7+count8+count9] = test_labels[i]\n",
    "            count3 += 1\n",
    "    if test_labels[i] == 4:\n",
    "        if count4 < 600:\n",
    "            test_images_sub[count0+count1+count2+count3+count4+count5+count6+count7+count8+count9] = test_images[i]\n",
    "            test_labels_sub[count0+count1+count2+count3+count4+count5+count6+count7+count8+count9] = test_labels[i]\n",
    "            count4 += 1\n",
    "    if test_labels[i] == 5:\n",
    "        if count5 < 600:\n",
    "            test_images_sub[count0+count1+count2+count3+count4+count5+count6+count7+count8+count9] = test_images[i]\n",
    "            test_labels_sub[count0+count1+count2+count3+count4+count5+count6+count7+count8+count9] = test_labels[i]\n",
    "            count5 += 1\n",
    "    if test_labels[i] == 6:\n",
    "        if count6 < 600:\n",
    "            test_images_sub[count0+count1+count2+count3+count4+count5+count6+count7+count8+count9] = test_images[i]\n",
    "            test_labels_sub[count0+count1+count2+count3+count4+count5+count6+count7+count8+count9] = test_labels[i]\n",
    "            count6 += 1\n",
    "    if test_labels[i] == 7:\n",
    "        if count7 < 600:\n",
    "            test_images_sub[count0+count1+count2+count3+count4+count5+count6+count7+count8+count9] = test_images[i]\n",
    "            test_labels_sub[count0+count1+count2+count3+count4+count5+count6+count7+count8+count9] = test_labels[i]\n",
    "            count7 += 1\n",
    "    if test_labels[i] == 8:\n",
    "        if count8 < 600:\n",
    "            test_images_sub[count0+count1+count2+count3+count4+count5+count6+count7+count8+count9] = test_images[i]\n",
    "            test_labels_sub[count0+count1+count2+count3+count4+count5+count6+count7+count8+count9] = test_labels[i]\n",
    "            count8 += 1\n",
    "    if test_labels[i] == 9:\n",
    "        if count9 < 600:\n",
    "            test_images_sub[count0+count1+count2+count3+count4+count5+count6+count7+count8+count9] = test_images[i]\n",
    "            test_labels_sub[count0+count1+count2+count3+count4+count5+count6+count7+count8+count9] = test_labels[i]\n",
    "            count9 += 1\n",
    "            \n",
    "train_images = train_images_sub / 510\n",
    "train_labels = train_labels_sub\n",
    "test_images = test_images_sub / 510\n",
    "test_labels = test_labels_sub\n",
    "\n",
    "f_max = np.zeros((1,T_free+T_nudge))\n",
    "f_max[:,1::2] = 1"
   ]
  },
  {
   "cell_type": "code",
   "execution_count": 5,
   "metadata": {},
   "outputs": [],
   "source": [
    "# Initial synaptic weights\n",
    "\n",
    "# Xavier normal initialization\n",
    "syn_IH = np.random.normal(0,np.sqrt(2/(N_input+N_hidden)),(N_input,N_hidden))\n",
    "syn_HO = np.random.normal(0,np.sqrt(2/(N_hidden+N_output)),(N_hidden,N_output))\n",
    "syn_OH = np.copy(syn_HO).T"
   ]
  },
  {
   "cell_type": "code",
   "execution_count": 6,
   "metadata": {
    "scrolled": true
   },
   "outputs": [
    {
     "name": "stderr",
     "output_type": "stream",
     "text": [
      " 11%|█         | 661/6000 [00:59<07:57, 11.17it/s]\n"
     ]
    },
    {
     "ename": "KeyboardInterrupt",
     "evalue": "",
     "output_type": "error",
     "traceback": [
      "\u001b[0;31m---------------------------------------------------------------------------\u001b[0m",
      "\u001b[0;31mKeyboardInterrupt\u001b[0m                         Traceback (most recent call last)",
      "\u001b[0;32m<ipython-input-6-4a5c756e7a18>\u001b[0m in \u001b[0;36m<module>\u001b[0;34m\u001b[0m\n\u001b[1;32m     76\u001b[0m             \u001b[0mreset_output\u001b[0m \u001b[0;34m=\u001b[0m \u001b[0mv_output\u001b[0m\u001b[0;34m[\u001b[0m\u001b[0;34m:\u001b[0m\u001b[0;34m,\u001b[0m\u001b[0mt\u001b[0m\u001b[0;34m]\u001b[0m \u001b[0;34m>\u001b[0m \u001b[0mv_th\u001b[0m\u001b[0;34m\u001b[0m\u001b[0;34m\u001b[0m\u001b[0m\n\u001b[1;32m     77\u001b[0m             \u001b[0mv_output\u001b[0m\u001b[0;34m[\u001b[0m\u001b[0;34m:\u001b[0m\u001b[0;34m,\u001b[0m\u001b[0mt\u001b[0m\u001b[0;34m]\u001b[0m \u001b[0;34m-=\u001b[0m \u001b[0mnp\u001b[0m\u001b[0;34m.\u001b[0m\u001b[0mmultiply\u001b[0m\u001b[0;34m(\u001b[0m\u001b[0mv_output\u001b[0m\u001b[0;34m[\u001b[0m\u001b[0;34m:\u001b[0m\u001b[0;34m,\u001b[0m\u001b[0mt\u001b[0m\u001b[0;34m]\u001b[0m\u001b[0;34m,\u001b[0m\u001b[0mreset_output\u001b[0m\u001b[0;34m.\u001b[0m\u001b[0mastype\u001b[0m\u001b[0;34m(\u001b[0m\u001b[0mint\u001b[0m\u001b[0;34m)\u001b[0m\u001b[0;34m)\u001b[0m\u001b[0;34m\u001b[0m\u001b[0;34m\u001b[0m\u001b[0m\n\u001b[0;32m---> 78\u001b[0;31m             \u001b[0mv_output\u001b[0m\u001b[0;34m[\u001b[0m\u001b[0;34m:\u001b[0m\u001b[0;34m,\u001b[0m\u001b[0mt\u001b[0m\u001b[0;34m]\u001b[0m \u001b[0;34m+=\u001b[0m \u001b[0mv_rst\u001b[0m \u001b[0;34m*\u001b[0m \u001b[0mreset_output\u001b[0m\u001b[0;34m.\u001b[0m\u001b[0mastype\u001b[0m\u001b[0;34m(\u001b[0m\u001b[0mint\u001b[0m\u001b[0;34m)\u001b[0m\u001b[0;34m\u001b[0m\u001b[0;34m\u001b[0m\u001b[0m\n\u001b[0m\u001b[1;32m     79\u001b[0m             \u001b[0mspikes_output\u001b[0m\u001b[0;34m[\u001b[0m\u001b[0;34m:\u001b[0m\u001b[0;34m,\u001b[0m\u001b[0mt\u001b[0m\u001b[0;34m]\u001b[0m \u001b[0;34m=\u001b[0m \u001b[0mreset_output\u001b[0m\u001b[0;34m.\u001b[0m\u001b[0mastype\u001b[0m\u001b[0;34m(\u001b[0m\u001b[0mint\u001b[0m\u001b[0;34m)\u001b[0m\u001b[0;34m\u001b[0m\u001b[0;34m\u001b[0m\u001b[0m\n\u001b[1;32m     80\u001b[0m \u001b[0;34m\u001b[0m\u001b[0m\n",
      "\u001b[0;31mKeyboardInterrupt\u001b[0m: "
     ]
    }
   ],
   "source": [
    "# Training Code\n",
    "\n",
    "# For each epoch\n",
    "for epoch in range(num_epochs):\n",
    "        \n",
    "    # For each training image\n",
    "    for i in tqdm(range(num_images)):\n",
    "        \n",
    "        # Instantiate membrane potential and spikes for this images\n",
    "        v_input = np.zeros((N_input,T_free+T_nudge))\n",
    "        v_hidden = np.zeros((N_hidden,T_free+T_nudge))\n",
    "        v_output = np.zeros((N_output,T_free+T_nudge))\n",
    "        spikes_input = np.zeros((N_input,T_free+T_nudge))\n",
    "        spikes_hidden = np.zeros((N_hidden,T_free+T_nudge))\n",
    "        spikes_output = np.zeros((N_output,T_free+T_nudge))\n",
    "        p_input = np.zeros((N_input,T_free+T_nudge))\n",
    "        p_hidden = np.zeros((N_hidden,T_free+T_nudge))\n",
    "        p_output = np.zeros((N_output,T_free+T_nudge))\n",
    "        p_dot_input = np.zeros((N_input,T_free+T_nudge))\n",
    "        p_dot_hidden = np.zeros((N_hidden,T_free+T_nudge))\n",
    "        p_dot_output = np.zeros((N_output,T_free+T_nudge))\n",
    "        p_dot_input_LPF = np.zeros((N_input,T_free+T_nudge))\n",
    "        p_dot_hidden_LPF = np.zeros((N_hidden,T_free+T_nudge))\n",
    "        p_dot_output_LPF = np.zeros((N_output,T_free+T_nudge))\n",
    "        p_target = np.zeros((N_output,T_free+T_nudge))\n",
    "        \n",
    "        # Generate target vectors\n",
    "        target_spikes = np.zeros((N_output,T_free+T_nudge))\n",
    "        target_spikes[train_labels[i].astype(int)] = f_max.copy()\n",
    "        error = np.zeros((N_output,T_free+T_nudge))\n",
    "        \n",
    "        # For each free-phase timestep\n",
    "        for t in range(T_free):\n",
    "            \n",
    "            # LIF of input neurons with normalized MNIST inputs\n",
    "            dvdt_input = (v_rst - v_input[:,t-1]) * tau + train_images[i,:]\n",
    "            v_input[:,t] = v_input[:,t-1] + dvdt_input * dt\n",
    "            reset_input = v_input[:,t] > v_th\n",
    "            v_input[:,t] -= np.multiply(v_input[:,t],reset_input.astype(int))\n",
    "            v_input[:,t] += v_rst * reset_input.astype(int)\n",
    "            spikes_input[:,t] = reset_input.astype(int)\n",
    "            \n",
    "            # LI of input neurons' output spikes and derivative computation\n",
    "            dpdt_input = -p_input[:,t-1] * tau_LI + spikes_input[:,t]\n",
    "            p_input[:,t] = p_input[:,t-1] + dpdt_input * dt\n",
    "            p_dot_input[:,t] = p_input[:,t] - p_input[:,t-gamma]\n",
    "            p_dot_input_LPF[:,t] = np.sum(p_dot_input[:,t-L_filt:t],axis=1) / L_filt\n",
    "            \n",
    "            # Find the synaptic response based on current input and previous outputs\n",
    "            result_IH = np.matmul(syn_IH.T,spikes_input[:,t])\n",
    "            result_HO = np.matmul(syn_HO.T,spikes_hidden[:,t-1])\n",
    "            result_OH = np.matmul(syn_OH.T,spikes_output[:,t-1])\n",
    "            \n",
    "            # Compute error of target - output\n",
    "            dpdt_target = -p_target[:,t-1] * tau_LI + target_spikes[:,t]\n",
    "            p_target[:,t] = p_target[:,t-1] + dpdt_target * dt\n",
    "            error[:,t] = p_target[:,t-1] - p_output[:,t-1]\n",
    "            \n",
    "            # LIF of hidden neurons with incoming spikes from input/output neurons\n",
    "            dvdt_hidden = (v_rst - v_hidden[:,t-1]) * tau + result_IH + result_OH\n",
    "            v_hidden[:,t] = v_hidden[:,t-1] + dvdt_hidden * dt\n",
    "            reset_hidden = v_hidden[:,t] > v_th\n",
    "            v_hidden[:,t] -= np.multiply(v_hidden[:,t],reset_hidden.astype(int))\n",
    "            v_hidden[:,t] += v_rst * reset_hidden.astype(int)\n",
    "            spikes_hidden[:,t] = reset_hidden.astype(int)\n",
    "            \n",
    "            # LI of hidden neurons' output spikes and derivative computation\n",
    "            dpdt_hidden = -p_hidden[:,t-1] * tau_LI + spikes_hidden[:,t]\n",
    "            p_hidden[:,t] = p_hidden[:,t-1] + dpdt_hidden * dt\n",
    "            p_dot_hidden[:,t] = p_hidden[:,t] - p_hidden[:,t-gamma]\n",
    "            p_dot_hidden_LPF[:,t] = np.sum(p_dot_hidden[:,t-L_filt:t],axis=1) / L_filt\n",
    "            \n",
    "            # LIF of output neurons with incoming spikes from hidden neurons\n",
    "            dvdt_output = (v_rst - v_output[:,t-1]) * tau + result_HO\n",
    "            v_output[:,t] = v_output[:,t-1] + dvdt_output * dt\n",
    "            reset_output = v_output[:,t] > v_th\n",
    "            v_output[:,t] -= np.multiply(v_output[:,t],reset_output.astype(int))\n",
    "            v_output[:,t] += v_rst * reset_output.astype(int)\n",
    "            spikes_output[:,t] = reset_output.astype(int)\n",
    "            \n",
    "            # LI of output neurons' output spikes\n",
    "            dpdt_output = -p_output[:,t-1] * tau_LI + spikes_output[:,t]\n",
    "            p_output[:,t] = p_output[:,t-1] + dpdt_output * dt\n",
    "            p_dot_output[:,t] = p_output[:,t] - p_output[:,t-gamma]\n",
    "            p_dot_output_LPF[:,t] = np.sum(p_dot_output[:,t-L_filt:t],axis=1) / L_filt\n",
    "            \n",
    "            # Make derivatives tertiary (-1, 0, or 1)\n",
    "            inc_output = p_dot_output_LPF[:,t] > 0\n",
    "            dec_output = p_dot_output_LPF[:,t] < 0\n",
    "            inc_hidden = p_dot_hidden_LPF[:,t] > 0\n",
    "            dec_hidden = p_dot_hidden_LPF[:,t] < 0\n",
    "            p_dot_output_LPF[:,t] = inc_output.astype(int) - dec_output.astype(int)\n",
    "            p_dot_hidden_LPF[:,t] = inc_hidden.astype(int) - dec_hidden.astype(int)\n",
    "            \n",
    "        # For each nudged-phase timestep \n",
    "        for t in range(T_free,T_free+T_nudge):\n",
    "            \n",
    "            # LIF of input neurons with normalized MNIST inputs\n",
    "            dvdt_input = (v_rst - v_input[:,t-1]) * tau + train_images[i,:]\n",
    "            v_input[:,t] = v_input[:,t-1] + dvdt_input * dt\n",
    "            reset_input = v_input[:,t] > v_th\n",
    "            v_input[:,t] -= np.multiply(v_input[:,t],reset_input.astype(int))\n",
    "            v_input[:,t] += v_rst * reset_input.astype(int)\n",
    "            spikes_input[:,t] = reset_input.astype(int)\n",
    "            \n",
    "            # LI of input neurons' output spikes and derivative computation\n",
    "            dpdt_input = -p_input[:,t-1] * tau_LI + spikes_input[:,t]\n",
    "            p_input[:,t] = p_input[:,t-1] + dpdt_input * dt\n",
    "            p_dot_input[:,t] = p_input[:,t] - p_input[:,t-gamma]\n",
    "            p_dot_input_LPF[:,t] = np.sum(p_dot_input[:,t-L_filt:t],axis=1) / L_filt\n",
    "            \n",
    "            # Find the synaptic response based on current input and previous outputs\n",
    "            result_IH = np.matmul(syn_IH.T,spikes_input[:,t])\n",
    "            result_HO = np.matmul(syn_HO.T,spikes_hidden[:,t-1])\n",
    "            result_OH = np.matmul(syn_OH.T,spikes_output[:,t-1])\n",
    "            \n",
    "            # Compute error of target - output\n",
    "            dpdt_target = -p_target[:,t-1] * tau_LI + target_spikes[:,t]\n",
    "            p_target[:,t] = p_target[:,t-1] + dpdt_target * dt\n",
    "            error[:,t] = p_target[:,t-1] - p_output[:,t-1]\n",
    "            \n",
    "            # LIF of hidden neurons with incoming spikes from input/output neurons\n",
    "            dvdt_hidden = (v_rst - v_hidden[:,t-1]) * tau + result_IH + result_OH\n",
    "            v_hidden[:,t] = v_hidden[:,t-1] + dvdt_hidden * dt\n",
    "            reset_hidden = v_hidden[:,t] > v_th\n",
    "            v_hidden[:,t] -= np.multiply(v_hidden[:,t],reset_hidden.astype(int))\n",
    "            v_hidden[:,t] += v_rst * reset_hidden.astype(int)\n",
    "            spikes_hidden[:,t] = reset_hidden.astype(int)\n",
    "            \n",
    "            # LI of hidden neurons' output spikes and derivative computation\n",
    "            dpdt_hidden = -p_hidden[:,t-1] * tau_LI + spikes_hidden[:,t]\n",
    "            p_hidden[:,t] = p_hidden[:,t-1] + dpdt_hidden * dt\n",
    "            p_dot_hidden[:,t] = p_hidden[:,t] - p_hidden[:,t-gamma]\n",
    "            p_dot_hidden_LPF[:,t] = np.sum(p_dot_hidden[:,t-L_filt:t],axis=1) / L_filt\n",
    "            \n",
    "            # LIF of output neurons with incoming spikes from hidden neurons\n",
    "            dvdt_output = (v_rst - v_output[:,t-1]) * tau + result_HO + beta * error[:,t]\n",
    "            v_output[:,t] = v_output[:,t-1] + dvdt_output * dt\n",
    "            reset_output = v_output[:,t] > v_th\n",
    "            v_output[:,t] -= np.multiply(v_output[:,t],reset_output.astype(int))\n",
    "            v_output[:,t] += v_rst * reset_output.astype(int)\n",
    "            spikes_output[:,t] = reset_output.astype(int)\n",
    "            \n",
    "            # LI of output neurons' output spikes and derivative computation\n",
    "            dpdt_output = -p_output[:,t-1] * tau_LI + spikes_output[:,t]\n",
    "            p_output[:,t] = p_output[:,t-1] + dpdt_output * dt\n",
    "            p_dot_output[:,t] = p_output[:,t] - p_output[:,t-gamma]\n",
    "            p_dot_output_LPF[:,t] = np.sum(p_dot_output[:,t-L_filt:t],axis=1) / L_filt\n",
    "            \n",
    "            # Make derivatives ternary (-1, 0, or 1)\n",
    "            if ternary == True:\n",
    "                inc_output = p_dot_output_LPF[:,t] > 0\n",
    "                dec_output = p_dot_output_LPF[:,t] < 0\n",
    "                inc_hidden = p_dot_hidden_LPF[:,t] > 0\n",
    "                dec_hidden = p_dot_hidden_LPF[:,t] < 0\n",
    "                p_dot_output_LPF[:,t] = inc_output.astype(int) - dec_output.astype(int)\n",
    "                p_dot_hidden_LPF[:,t] = inc_hidden.astype(int) - dec_hidden.astype(int)\n",
    "            \n",
    "            # Update weights for synapses with post-synaptic spikes\n",
    "            # Use spike data and LPF for this timestep\n",
    "            syn_HO += nu*np.matmul(spikes_hidden[:,t].reshape((N_hidden,1)),p_dot_output_LPF[:,t].reshape((N_output,1)).T)\n",
    "            syn_OH += nu*np.matmul(spikes_output[:,t].reshape((N_output,1)),p_dot_hidden_LPF[:,t].reshape((N_hidden,1)).T)\n",
    "            syn_IH += nu*np.matmul(spikes_input[:,t].reshape((N_input,1)),p_dot_hidden_LPF[:,t].reshape((N_hidden,1)).T)\n"
   ]
  },
  {
   "cell_type": "code",
   "execution_count": 8,
   "metadata": {},
   "outputs": [
    {
     "data": {
      "image/png": "[encoded data removed]",
      "text/plain": [
       "<Figure size 432x288 with 1 Axes>"
      ]
     },
     "metadata": {
      "needs_background": "light"
     },
     "output_type": "display_data"
    },
    {
     "data": {
      "image/png": "[encoded data removed]",
      "text/plain": [
       "<Figure size 432x288 with 1 Axes>"
      ]
     },
     "metadata": {
      "needs_background": "light"
     },
     "output_type": "display_data"
    },
    {
     "data": {
      "image/png": "[encoded data removed]",
      "text/plain": [
       "<Figure size 432x288 with 1 Axes>"
      ]
     },
     "metadata": {
      "needs_background": "light"
     },
     "output_type": "display_data"
    },
    {
     "data": {
      "image/png": "[encoded data removed]",
      "text/plain": [
       "<Figure size 432x288 with 1 Axes>"
      ]
     },
     "metadata": {
      "needs_background": "light"
     },
     "output_type": "display_data"
    },
    {
     "data": {
      "image/png": "[encoded data removed]",
      "text/plain": [
       "<Figure size 432x288 with 1 Axes>"
      ]
     },
     "metadata": {
      "needs_background": "light"
     },
     "output_type": "display_data"
    }
   ],
   "source": [
    "#plt.plot(np.arange(T_free+T_nudge),p_dot_output_LPF[0,:])\n",
    "#plt.show()\n",
    "#plt.plot(np.arange(T_free+T_nudge),p_dot_output_LPF[1,:])\n",
    "#plt.show()\n",
    "#plt.plot(np.arange(T_free+T_nudge),p_dot_output_LPF[2,:])\n",
    "#plt.show()\n",
    "#plt.plot(np.arange(T_free+T_nudge),p_dot_output_LPF[3,:])\n",
    "#plt.show()\n",
    "#plt.plot(np.arange(T_free+T_nudge),p_dot_output_LPF[4,:])\n",
    "#plt.show()"
   ]
  },
  {
   "cell_type": "code",
   "execution_count": null,
   "metadata": {
    "scrolled": true
   },
   "outputs": [],
   "source": [
    "# Testing Code\n",
    "acc = 0\n",
    "guess = np.zeros((num_images,1))\n",
    "\n",
    "# For each training image\n",
    "for i in tqdm(range(num_images)):\n",
    "        \n",
    "    # Instantiate membrane potential and spikes for this images\n",
    "    v_input = np.zeros((N_input,T_free+T_nudge))\n",
    "    v_hidden = np.zeros((N_hidden,T_free+T_nudge))\n",
    "    v_output = np.zeros((N_output,T_free+T_nudge))\n",
    "    spikes_input = np.zeros((N_input,T_free+T_nudge))\n",
    "    spikes_hidden = np.zeros((N_hidden,T_free+T_nudge))\n",
    "    spikes_output = np.zeros((N_output,T_free+T_nudge))\n",
    "        \n",
    "    # For each free-phase timestep\n",
    "    for t in range(T_free+T_nudge):\n",
    "        \n",
    "        # LIF of input neurons with normalized MNIST inputs\n",
    "        dvdt_input = (v_rst - v_input[:,t-1]) * tau + test_images[i,:]\n",
    "        v_input[:,t] = v_input[:,t-1] + dvdt_input * dt\n",
    "        reset_input = v_input[:,t] > v_th\n",
    "        v_input[:,t] -= np.multiply(v_input[:,t],reset_input.astype(int))\n",
    "        v_input[:,t] += v_rst * reset_input.astype(int)\n",
    "        spikes_input[:,t] = reset_input.astype(int)\n",
    "           \n",
    "        # Find the synaptic response based on current input and previous outputs\n",
    "        result_IH = np.matmul(syn_IH.T,spikes_input[:,t])\n",
    "        result_HO = np.matmul(syn_HO.T,spikes_hidden[:,t-1])\n",
    "        result_OH = np.matmul(syn_OH.T,spikes_output[:,t-1])\n",
    "            \n",
    "        # LIF of hidden neurons with incoming spikes from input/output neurons\n",
    "        dvdt_hidden = (v_rst - v_hidden[:,t-1]) * tau + result_IH + result_OH\n",
    "        v_hidden[:,t] = v_hidden[:,t-1] + dvdt_hidden * dt\n",
    "        reset_hidden = v_hidden[:,t] > v_th\n",
    "        v_hidden[:,t] -= np.multiply(v_hidden[:,t],reset_hidden.astype(int))\n",
    "        v_hidden[:,t] += v_rst * reset_hidden.astype(int)\n",
    "        spikes_hidden[:,t] = reset_hidden.astype(int)\n",
    "            \n",
    "        # LIF of output neurons with incoming spikes from hidden neurons\n",
    "        dvdt_output = (v_rst - v_output[:,t-1]) * tau + result_HO\n",
    "        v_output[:,t] = v_output[:,t-1] + dvdt_output * dt\n",
    "        reset_output = v_output[:,t] > v_th\n",
    "        v_output[:,t] -= np.multiply(v_output[:,t],reset_output.astype(int))\n",
    "        v_output[:,t] += v_rst * reset_output.astype(int)\n",
    "        spikes_output[:,t] = reset_output.astype(int)\n",
    "        \n",
    "    # Calculate output neuron with highest spike-rate\n",
    "    classification = np.argmax(np.sum(spikes_output,axis=1))\n",
    "    guess[i] = classification\n",
    "    if classification.astype(int) == test_labels[i].astype(int):\n",
    "        acc += 1\n",
    "        \n",
    "# Calculate error-rate\n",
    "acc_rate = acc / num_images * 100\n",
    "print(acc_rate)"
   ]
  },
  {
   "cell_type": "code",
   "execution_count": 9,
   "metadata": {
    "scrolled": true
   },
   "outputs": [
    {
     "data": {
      "image/png": "[encoded data removed]",
      "text/plain": [
       "<Figure size 432x288 with 1 Axes>"
      ]
     },
     "metadata": {
      "needs_background": "light"
     },
     "output_type": "display_data"
    }
   ],
   "source": [
    "plt.hist(guess)\n",
    "plt.show()"
   ]
  },
  {
   "cell_type": "code",
   "execution_count": 10,
   "metadata": {
    "scrolled": true
   },
   "outputs": [
    {
     "data": {
      "image/png": "[encoded data removed]",
      "text/plain": [
       "<Figure size 432x288 with 1 Axes>"
      ]
     },
     "metadata": {
      "needs_background": "light"
     },
     "output_type": "display_data"
    },
    {
     "data": {
      "image/png": "[encoded data removed]",
      "text/plain": [
       "<Figure size 432x288 with 1 Axes>"
      ]
     },
     "metadata": {
      "needs_background": "light"
     },
     "output_type": "display_data"
    },
    {
     "data": {
      "image/png": "[encoded data removed]",
      "text/plain": [
       "<Figure size 432x288 with 1 Axes>"
      ]
     },
     "metadata": {
      "needs_background": "light"
     },
     "output_type": "display_data"
    },
    {
     "data": {
      "image/png": "[encoded data removed]",
      "text/plain": [
       "<Figure size 432x288 with 1 Axes>"
      ]
     },
     "metadata": {
      "needs_background": "light"
     },
     "output_type": "display_data"
    },
    {
     "data": {
      "image/png": "[encoded data removed]",
      "text/plain": [
       "<Figure size 432x288 with 1 Axes>"
      ]
     },
     "metadata": {
      "needs_background": "light"
     },
     "output_type": "display_data"
    },
    {
     "data": {
      "image/png": "[encoded data removed]",
      "text/plain": [
       "<Figure size 432x288 with 1 Axes>"
      ]
     },
     "metadata": {
      "needs_background": "light"
     },
     "output_type": "display_data"
    },
    {
     "data": {
      "image/png": "[encoded data removed]",
      "text/plain": [
       "<Figure size 432x288 with 1 Axes>"
      ]
     },
     "metadata": {
      "needs_background": "light"
     },
     "output_type": "display_data"
    },
    {
     "data": {
      "image/png": "[encoded data removed]",
      "text/plain": [
       "<Figure size 432x288 with 1 Axes>"
      ]
     },
     "metadata": {
      "needs_background": "light"
     },
     "output_type": "display_data"
    },
    {
     "data": {
      "image/png": "[encoded data removed]",
      "text/plain": [
       "<Figure size 432x288 with 1 Axes>"
      ]
     },
     "metadata": {
      "needs_background": "light"
     },
     "output_type": "display_data"
    },
    {
     "data": {
      "image/png": "[encoded data removed]",
      "text/plain": [
       "<Figure size 432x288 with 1 Axes>"
      ]
     },
     "metadata": {
      "needs_background": "light"
     },
     "output_type": "display_data"
    }
   ],
   "source": [
    "plt.imshow(syn_IH[:,0].reshape((28,28)))\n",
    "plt.show()\n",
    "plt.imshow(syn_IH[:,1].reshape((28,28)))\n",
    "plt.show()\n",
    "plt.imshow(syn_IH[:,2].reshape((28,28)))\n",
    "plt.show()\n",
    "plt.imshow(syn_IH[:,3].reshape((28,28)))\n",
    "plt.show()\n",
    "plt.imshow(syn_IH[:,4].reshape((28,28)))\n",
    "plt.show()\n",
    "plt.imshow(syn_IH[:,5].reshape((28,28)))\n",
    "plt.show()\n",
    "plt.imshow(syn_IH[:,6].reshape((28,28)))\n",
    "plt.show()\n",
    "plt.imshow(syn_IH[:,7].reshape((28,28)))\n",
    "plt.show()\n",
    "plt.imshow(syn_IH[:,8].reshape((28,28)))\n",
    "plt.show()\n",
    "plt.imshow(syn_IH[:,9].reshape((28,28)))\n",
    "plt.show()"
   ]
  },
  {
   "cell_type": "code",
   "execution_count": null,
   "metadata": {},
   "outputs": [],
   "source": []
  }
 ],
 "metadata": {
  "kernelspec": {
   "display_name": "Python 3",
   "language": "python",
   "name": "python3"
  },
  "language_info": {
   "codemirror_mode": {
    "name": "ipython",
    "version": 3
   },
   "file_extension": ".py",
   "mimetype": "text/x-python",
   "name": "python",
   "nbconvert_exporter": "python",
   "pygments_lexer": "ipython3",
   "version": "3.8.5"
  }
 },
 "nbformat": 4,
 "nbformat_minor": 4
}
